{
  "cells": [
    {
      "cell_type": "markdown",
      "metadata": {
        "id": "D6yIHHU2p-EF"
      },
      "source": [
        "# 01.01 - PROYECTO KAGGLE"
      ]
    },
    {
      "cell_type": "markdown",
      "metadata": {
        "id": "CdkWz0856v-Z"
      },
      "source": [
        "## download data directly from Kaggle\n",
        "\n",
        "- create a file `kaggle.json` with your authentication token (in kaggle $\\to$ click user icon on top-right $\\to$ settings $\\to$ API create new token)\n",
        "- upload it to this notebook workspace\n",
        "- run the following cell"
      ]
    },
    {
      "cell_type": "code",
      "execution_count": null,
      "metadata": {
        "colab": {
          "base_uri": "https://localhost:8080/"
        },
        "id": "HJ8jqq-FqPUB",
        "outputId": "e929a6db-4f0e-4a81-ec17-47b10fee1b60"
      },
      "outputs": [
        {
          "output_type": "stream",
          "name": "stdout",
          "text": [
            "udea-ai4eng-20242.zip: Skipping, found more recently modified local copy (use --force to force download)\n"
          ]
        }
      ],
      "source": [
        "import os\n",
        "os.environ['KAGGLE_CONFIG_DIR'] = '.'\n",
        "!chmod 600 ./kaggle.json\n",
        "!kaggle competitions download -c udea-ai4eng-20242"
      ]
    },
    {
      "cell_type": "code",
      "execution_count": null,
      "metadata": {
        "colab": {
          "base_uri": "https://localhost:8080/"
        },
        "id": "qn5epprEwQgw",
        "outputId": "b43b31de-c9f2-458b-ac90-06830f469cf7"
      },
      "outputs": [
        {
          "output_type": "stream",
          "name": "stdout",
          "text": [
            "Drive already mounted at /content/drive; to attempt to forcibly remount, call drive.mount(\"/content/drive\", force_remount=True).\n"
          ]
        }
      ],
      "source": [
        "from google.colab import drive\n",
        "drive.mount('/content/drive')"
      ]
    },
    {
      "cell_type": "markdown",
      "metadata": {
        "id": "_DFu9Pgx7n4V"
      },
      "source": [
        "## unzip and inspect data"
      ]
    },
    {
      "cell_type": "code",
      "execution_count": null,
      "metadata": {
        "id": "WE2IYDHKqPYv",
        "colab": {
          "base_uri": "https://localhost:8080/"
        },
        "outputId": "ed8f7c9f-c77b-4a3b-c08e-2e178cae0b6e"
      },
      "outputs": [
        {
          "output_type": "stream",
          "name": "stdout",
          "text": [
            "replace submission_example.csv? [y]es, [n]o, [A]ll, [N]one, [r]ename: y\n",
            "replace test.csv? [y]es, [n]o, [A]ll, [N]one, [r]ename: y\n",
            "replace train.csv? [y]es, [n]o, [A]ll, [N]one, [r]ename: y\n"
          ]
        }
      ],
      "source": [
        "!unzip udea*.zip > /dev/null"
      ]
    },
    {
      "cell_type": "markdown",
      "metadata": {
        "id": "vQacFVFN8Lok"
      },
      "source": [
        "## load `train.csv` data with pandas\n",
        "\n"
      ]
    },
    {
      "cell_type": "code",
      "execution_count": null,
      "metadata": {
        "id": "9bitCKLB74cC"
      },
      "outputs": [],
      "source": [
        "# Importación de librerías\n",
        "import pandas as pd\n",
        "import numpy as np\n",
        "import seaborn as sns\n",
        "import matplotlib.pyplot as plt\n",
        "from sklearn.model_selection import train_test_split\n",
        "from sklearn.svm import SVC\n",
        "from sklearn.metrics import accuracy_score, confusion_matrix, ConfusionMatrixDisplay\n",
        "from sklearn.preprocessing import LabelEncoder\n",
        "from sklearn.impute import KNNImputer\n",
        "import unicodedata\n"
      ]
    },
    {
      "cell_type": "code",
      "execution_count": null,
      "metadata": {
        "id": "T_ZgtSZ04chi"
      },
      "outputs": [],
      "source": [
        "# Cargar los datos de entrenamiento y prueba\n",
        "trainKaggle = pd.read_csv(\"train.csv\")\n",
        "testKaggle = pd.read_csv(\"test.csv\")"
      ]
    },
    {
      "cell_type": "markdown",
      "metadata": {
        "id": "RMdfuu0jsZyz"
      },
      "source": [
        "## visualización de las columnas y algunos registros"
      ]
    },
    {
      "cell_type": "markdown",
      "metadata": {
        "id": "Bne6vbL7VDcE"
      },
      "source": [
        "# Preprocesado"
      ]
    },
    {
      "cell_type": "code",
      "execution_count": null,
      "metadata": {
        "id": "rB4nvg2_UPVO"
      },
      "outputs": [],
      "source": [
        "# Esta función normaliza las cadenas de texto eliminando acentos y convirtiendo a minúsculas\n",
        "def normalize_string(s):\n",
        "    return (\n",
        "        unicodedata.normalize('NFKD', s)\n",
        "        .encode('ascii', errors='ignore')\n",
        "        .decode('utf-8')\n",
        "        .lower()\n",
        "        .strip()\n",
        "        .replace('  ', ' ')\n",
        "    )"
      ]
    },
    {
      "cell_type": "code",
      "execution_count": null,
      "metadata": {
        "id": "zllws69LUgog"
      },
      "outputs": [],
      "source": [
        "# Esta función extrae la primera palabra de un texto, eliminando ciertos caracteres\n",
        "def extraer_primera_palabra(texto):\n",
        "    palabra = texto.replace('3','')\n",
        "    palabra = palabra.split()[0]\n",
        "    palabra= palabra.replace('-','')\n",
        "    return palabra"
      ]
    },
    {
      "cell_type": "code",
      "execution_count": null,
      "metadata": {
        "id": "Soq1ghyXeJvB"
      },
      "outputs": [],
      "source": [
        "# Diccionarios de mapeo: se usan para convertir las categorías de texto en valores numéricos\n",
        "mapeo_rendimiento = {\n",
        "    'bajo': 1,\n",
        "    'medio-bajo': 2,\n",
        "    'medio-alto': 3,\n",
        "    'alto': 4\n",
        "  }\n",
        "map_matricula ={\n",
        "    'Entre 5.5 millones y menos de 7 millones': 6,\n",
        "    'Entre 2.5 millones y menos de 4 millones': 4,\n",
        "    'Entre 4 millones y menos de 5.5 millones': 5,\n",
        "    'Más de 7 millones': 7,\n",
        "    'Entre 1 millón y menos de 2.5 millones': 3,\n",
        "    'Entre 500 mil y menos de 1 millón': 2,\n",
        "    'Menos de 500 mil': 1\n",
        "\n",
        "  }\n",
        "mapeo_horas = {\n",
        "    '0': 0,\n",
        "    'Menos de 10 horas': 1,\n",
        "    'Entre 11 y 20 horas': 2,\n",
        "    'Entre 21 y 30 horas': 3,\n",
        "    'Más de 30 horas': 4\n",
        "  }\n",
        "mapeo_estracto = {\n",
        "    'Estrato 3':3,\n",
        "    'Estrato 4':4,\n",
        "    'Estrato 5':5,\n",
        "    'Estrato 2':2,\n",
        "    'Estrato 1':1,\n",
        "    'Estrato 6':6,\n",
        "    'Sin Estrato':0\n",
        "  }\n",
        "\n",
        "mapeo_region = {\n",
        "     'BOGOTÁ': 'BOGOTÁ',\n",
        "    'ATLANTICO': 'Caribe',\n",
        "    'SANTANDER': 'Andina',\n",
        "    'ANTIOQUIA': 'Andina',\n",
        "    'HUILA': 'Andina',\n",
        "    'SUCRE': 'Caribe',\n",
        "    'CAQUETA': 'Amazonia',\n",
        "    'CUNDINAMARCA': 'Andina',\n",
        "    'BOLIVAR': 'Caribe',\n",
        "    'TOLIMA': 'Andina',\n",
        "    'VALLE': 'Andina',\n",
        "    'QUINDIO': 'Andina',\n",
        "    'RISARALDA': 'Andina',\n",
        "    'CORDOBA': 'Caribe',\n",
        "    'META': 'Orinoquia',\n",
        "    'LA GUAJIRA': 'Caribe',\n",
        "    'BOYACA': 'Andina',\n",
        "    'NARIÑO': 'Andina',\n",
        "    'CAUCA': 'Andina',\n",
        "    'NORTE SANTANDER': 'Andina',\n",
        "    'CESAR': 'Caribe',\n",
        "    'PUTUMAYO': 'Amazonia',\n",
        "    'CALDAS': 'Andina',\n",
        "    'MAGDALENA': 'Caribe',\n",
        "    'CHOCO': 'Pacífico',\n",
        "    'CASANARE': 'Orinoquia',\n",
        "    'ARAUCA': 'Orinoquia',\n",
        "    'GUAVIARE': 'Orinoquia',\n",
        "    'AMAZONAS': 'Amazonia',\n",
        "    'VAUPES': 'Amazonia',\n",
        "    'SAN ANDRES': 'Insular',\n",
        "    'VICHADA': 'Orinoquia'\n",
        "  }\n",
        "\n",
        "# Esta función aplica todo el preprocesamiento sobre los datos de entrada\n",
        "def preprocess(dataframe):\n",
        "  train = dataframe.copy()\n",
        "  print(\"el shape inicial fue :\")\n",
        "  print(train.shape)\n",
        "  target = 'RENDIMIENTO_GLOBAL'\n",
        "  # Mapear la variable objetivo si existe en los datos\n",
        "  if(target in train):\n",
        "    train[target] = train[target].map(mapeo_rendimiento)\n",
        "\n",
        "  # Normalizar y simplificar el nombre del programa académico\n",
        "  train['ESTU_PRGM_ACADEMICO'] = train['ESTU_PRGM_ACADEMICO'].apply(normalize_string)\n",
        "  train['ESTU_PRGM_ACADEMICO'] = train['ESTU_PRGM_ACADEMICO'].apply(extraer_primera_palabra)\n",
        "\n",
        "  # Agrupar los 15 programas más comunes, el resto se marca como 'otra'\n",
        "  frecuencia = train['ESTU_PRGM_ACADEMICO'].value_counts()\n",
        "  top_10 = frecuencia.nlargest(15).index\n",
        "  train['ESTU_PRGM_ACADEMICO'] = train['ESTU_PRGM_ACADEMICO'].apply(lambda x: x if x in top_10 else 'otra')\n",
        "\n",
        "  # Aplicar mapeo a varias columnas\n",
        "  train['ESTU_PRGM_DEPARTAMENTO'] = train['ESTU_PRGM_DEPARTAMENTO'].map(mapeo_region)\n",
        "  train['FAMI_ESTRATOVIVIENDA'] = train['FAMI_ESTRATOVIVIENDA'].map(mapeo_estracto)\n",
        "  train['ESTU_HORASSEMANATRABAJA'] = train['ESTU_HORASSEMANATRABAJA'].map(mapeo_horas)\n",
        "  train[\"ESTU_VALORMATRICULAUNIVERSIDAD\"] = train[\"ESTU_VALORMATRICULAUNIVERSIDAD\"].map(map_matricula)\n",
        "\n",
        "  # Imputación de valores faltantes en educación de padres\n",
        "  modaPadre = train['FAMI_EDUCACIONMADRE'].mode()[0]\n",
        "  modaMadre = train['FAMI_EDUCACIONPADRE'].mode()[0]\n",
        "  train['FAMI_EDUCACIONMADRE'].fillna(modaMadre, inplace=True)\n",
        "  train['FAMI_EDUCACIONPADRE'].fillna(modaPadre, inplace=True)\n",
        "\n",
        "  # One-hot encoding en educación de padres y conexión a internet\n",
        "  one_hot_encoded_p = pd.get_dummies(train['FAMI_EDUCACIONPADRE'], prefix='FAMI_EDUCACIONPADRE')\n",
        "  train = pd.concat([train, one_hot_encoded_p], axis=1)\n",
        "  train.drop('FAMI_EDUCACIONPADRE', axis=1, inplace=True)\n",
        "  one_hot_encoded_m = pd.get_dummies(train['FAMI_EDUCACIONMADRE'], prefix='FAMI_EDUCACIONMADRE')\n",
        "  train = pd.concat([train, one_hot_encoded_m], axis=1)\n",
        "  train.drop('FAMI_EDUCACIONMADRE', axis=1, inplace=True)\n",
        "  #imputar a fami tiene internet\n",
        "  modaInternet = train['FAMI_TIENEINTERNET'].mode()[0]\n",
        "  train['FAMI_TIENEINTERNET'].fillna(modaInternet, inplace=True)\n",
        "  #one hot a fami tiene internet\n",
        "  one_hot_encoded_p = pd.get_dummies(train['FAMI_TIENEINTERNET'], prefix='FAMI_TIENEINTERNET')\n",
        "  train = pd.concat([train, one_hot_encoded_p], axis=1)\n",
        "  train.drop('FAMI_TIENEINTERNET', axis=1, inplace=True)\n",
        "\n",
        "  # Imputación de valores numéricos usando KNN\n",
        "  chunk_size = 3000\n",
        "  numerical_cols = train.select_dtypes(include=[np.number]).columns.tolist()\n",
        "  num_rows = train.shape[0]\n",
        "  imputer = KNNImputer(n_neighbors=3)\n",
        "  for start in range(0, num_rows, chunk_size):\n",
        "    end = min(start + chunk_size, num_rows)\n",
        "    train.iloc[start:end, train.columns.get_indexer(numerical_cols)] = imputer.fit_transform(\n",
        "        train.iloc[start:end, train.columns.get_indexer(numerical_cols)].to_numpy())\n",
        "  # Codificación de variables categóricas\n",
        "  label_encoder = LabelEncoder()\n",
        "  categorical_columns = train.select_dtypes(include=['object']).columns\n",
        "  for col in categorical_columns:\n",
        "    train[col] = label_encoder.fit_transform(train[col])\n",
        "\n",
        "\n",
        "  print(\"el shape final fue :\" )\n",
        "  print(train.shape)\n",
        "  return train"
      ]
    },
    {
      "cell_type": "code",
      "execution_count": null,
      "metadata": {
        "id": "Ney5ZLZXDEb-",
        "colab": {
          "base_uri": "https://localhost:8080/"
        },
        "outputId": "ebc4bbdc-47b7-4929-b3df-71d1961732eb"
      },
      "outputs": [
        {
          "output_type": "stream",
          "name": "stdout",
          "text": [
            "el shape inicial fue :\n",
            "(692500, 12)\n"
          ]
        },
        {
          "output_type": "stream",
          "name": "stderr",
          "text": [
            "<ipython-input-8-d1dd7134b698>:91: FutureWarning: A value is trying to be set on a copy of a DataFrame or Series through chained assignment using an inplace method.\n",
            "The behavior will change in pandas 3.0. This inplace method will never work because the intermediate object on which we are setting values always behaves as a copy.\n",
            "\n",
            "For example, when doing 'df[col].method(value, inplace=True)', try using 'df.method({col: value}, inplace=True)' or df[col] = df[col].method(value) instead, to perform the operation inplace on the original object.\n",
            "\n",
            "\n",
            "  train['FAMI_EDUCACIONMADRE'].fillna(modaMadre, inplace=True)\n",
            "<ipython-input-8-d1dd7134b698>:92: FutureWarning: A value is trying to be set on a copy of a DataFrame or Series through chained assignment using an inplace method.\n",
            "The behavior will change in pandas 3.0. This inplace method will never work because the intermediate object on which we are setting values always behaves as a copy.\n",
            "\n",
            "For example, when doing 'df[col].method(value, inplace=True)', try using 'df.method({col: value}, inplace=True)' or df[col] = df[col].method(value) instead, to perform the operation inplace on the original object.\n",
            "\n",
            "\n",
            "  train['FAMI_EDUCACIONPADRE'].fillna(modaPadre, inplace=True)\n",
            "<ipython-input-8-d1dd7134b698>:101: FutureWarning: A value is trying to be set on a copy of a DataFrame or Series through chained assignment using an inplace method.\n",
            "The behavior will change in pandas 3.0. This inplace method will never work because the intermediate object on which we are setting values always behaves as a copy.\n",
            "\n",
            "For example, when doing 'df[col].method(value, inplace=True)', try using 'df.method({col: value}, inplace=True)' or df[col] = df[col].method(value) instead, to perform the operation inplace on the original object.\n",
            "\n",
            "\n",
            "  train['FAMI_TIENEINTERNET'].fillna(modaInternet, inplace=True)\n"
          ]
        },
        {
          "output_type": "stream",
          "name": "stdout",
          "text": [
            "el shape final fue :\n",
            "(692500, 35)\n",
            "el shape inicial fue :\n",
            "(296786, 12)\n"
          ]
        },
        {
          "output_type": "stream",
          "name": "stderr",
          "text": [
            "<ipython-input-8-d1dd7134b698>:91: FutureWarning: A value is trying to be set on a copy of a DataFrame or Series through chained assignment using an inplace method.\n",
            "The behavior will change in pandas 3.0. This inplace method will never work because the intermediate object on which we are setting values always behaves as a copy.\n",
            "\n",
            "For example, when doing 'df[col].method(value, inplace=True)', try using 'df.method({col: value}, inplace=True)' or df[col] = df[col].method(value) instead, to perform the operation inplace on the original object.\n",
            "\n",
            "\n",
            "  train['FAMI_EDUCACIONMADRE'].fillna(modaMadre, inplace=True)\n",
            "<ipython-input-8-d1dd7134b698>:92: FutureWarning: A value is trying to be set on a copy of a DataFrame or Series through chained assignment using an inplace method.\n",
            "The behavior will change in pandas 3.0. This inplace method will never work because the intermediate object on which we are setting values always behaves as a copy.\n",
            "\n",
            "For example, when doing 'df[col].method(value, inplace=True)', try using 'df.method({col: value}, inplace=True)' or df[col] = df[col].method(value) instead, to perform the operation inplace on the original object.\n",
            "\n",
            "\n",
            "  train['FAMI_EDUCACIONPADRE'].fillna(modaPadre, inplace=True)\n",
            "<ipython-input-8-d1dd7134b698>:101: FutureWarning: A value is trying to be set on a copy of a DataFrame or Series through chained assignment using an inplace method.\n",
            "The behavior will change in pandas 3.0. This inplace method will never work because the intermediate object on which we are setting values always behaves as a copy.\n",
            "\n",
            "For example, when doing 'df[col].method(value, inplace=True)', try using 'df.method({col: value}, inplace=True)' or df[col] = df[col].method(value) instead, to perform the operation inplace on the original object.\n",
            "\n",
            "\n",
            "  train['FAMI_TIENEINTERNET'].fillna(modaInternet, inplace=True)\n"
          ]
        },
        {
          "output_type": "stream",
          "name": "stdout",
          "text": [
            "el shape final fue :\n",
            "(296786, 35)\n"
          ]
        }
      ],
      "source": [
        "# Aplicamos el preprocesamiento\n",
        "trainPreprocesado = preprocess(trainKaggle)\n",
        "testPreprocesado = preprocess(testKaggle)"
      ]
    },
    {
      "cell_type": "markdown",
      "metadata": {
        "id": "wlGZe3MR0zUU"
      },
      "source": [
        "# Modelo"
      ]
    },
    {
      "cell_type": "code",
      "source": [
        "# Configuración del modelo SVM\n",
        "X = trainPreprocesado.drop(columns=[\"RENDIMIENTO_GLOBAL\"])\n",
        "y = trainPreprocesado[\"RENDIMIENTO_GLOBAL\"]\n",
        "X_train, X_test, y_train, y_test = train_test_split(X, y, test_size=0.1, random_state=42)"
      ],
      "metadata": {
        "id": "TYtYWWu44nQj"
      },
      "execution_count": null,
      "outputs": []
    },
    {
      "cell_type": "code",
      "source": [
        "# Entrenamiento del modelo SVM con kernel RBF\n",
        "model = SVC(kernel='rbf', C=1.0, gamma='scale', random_state=0)\n",
        "model.fit(X_train, y_train)"
      ],
      "metadata": {
        "id": "gLRv_-Hy4qki"
      },
      "execution_count": null,
      "outputs": []
    },
    {
      "cell_type": "code",
      "source": [
        "# Evaluación del modelo\n",
        "accuracy = model.score(X_test, y_test)\n",
        "porcentaje_acierto = accuracy * 100\n",
        "print(f\"Porcentaje de acierto del modelo: {porcentaje_acierto:.2f}%\")"
      ],
      "metadata": {
        "id": "jmbVThHk4wya"
      },
      "execution_count": null,
      "outputs": []
    },
    {
      "cell_type": "code",
      "source": [
        "# Visualización de la matriz de confusión\n",
        "y_pred = model.predict(X_test)\n",
        "cm = confusion_matrix(y_test, y_pred)\n",
        "disp = ConfusionMatrixDisplay(confusion_matrix=cm, display_labels=model.classes_)\n",
        "disp.plot(cmap=plt.cm.Oranges)\n",
        "plt.show()"
      ],
      "metadata": {
        "id": "xnpoHM4Z4yHB"
      },
      "execution_count": null,
      "outputs": []
    },
    {
      "cell_type": "markdown",
      "metadata": {
        "id": "b6Zzs-oKQeB_"
      },
      "source": [
        "# Envio a Kaggle"
      ]
    },
    {
      "cell_type": "code",
      "execution_count": null,
      "metadata": {
        "id": "6Wqn2AA5qkEV",
        "colab": {
          "base_uri": "https://localhost:8080/"
        },
        "outputId": "b7a099cd-e817-44dd-f929-456216f188ab"
      },
      "outputs": [
        {
          "output_type": "stream",
          "name": "stderr",
          "text": [
            "<ipython-input-18-93c88ec2aa09>:13: SettingWithCopyWarning: \n",
            "A value is trying to be set on a copy of a slice from a DataFrame.\n",
            "Try using .loc[row_indexer,col_indexer] = value instead\n",
            "\n",
            "See the caveats in the documentation: https://pandas.pydata.org/pandas-docs/stable/user_guide/indexing.html#returning-a-view-versus-a-copy\n",
            "  envio['RENDIMIENTO_GLOBAL'] = envio['RENDIMIENTO_GLOBAL'].map(mapeo_rendimiento)\n"
          ]
        },
        {
          "output_type": "stream",
          "name": "stdout",
          "text": [
            "Warning: Your Kaggle API key is readable by other users on this system! To fix this, you can run 'chmod 600 ./kaggle.json'\n",
            "100% 4.01M/4.01M [00:00<00:00, 18.7MB/s]\n",
            "Successfully submitted to UDEA/ai4eng 20242 - Pruebas Saber Pro Colombia"
          ]
        }
      ],
      "source": [
        "# ENVÍO A KAGGLE\n",
        "testPreprocesadoToSend = testPreprocesado.copy()\n",
        "testPreprocesadoToSend.drop('Unnamed: 0', axis=1, inplace=True)\n",
        "kagglePredictions = model.predict(testPreprocesadoToSend)\n",
        "testPreprocesadoToSend['RENDIMIENTO_GLOBAL'] = kagglePredictions\n",
        "envio = testPreprocesadoToSend[['ID','RENDIMIENTO_GLOBAL']]\n",
        "\n",
        "# Mapeo inverso de los valores de rendimiento para el envío\n",
        "mapeo_rendimiento = {\n",
        "    1: 'bajo',\n",
        "    2: 'medio-bajo',\n",
        "    3: 'medio-alto',\n",
        "    4: 'alto'\n",
        "}\n",
        "envio['RENDIMIENTO_GLOBAL'] = envio['RENDIMIENTO_GLOBAL'].map(mapeo_rendimiento)\n",
        "envio.to_csv('submission.csv', index=False)\n",
        "!kaggle competitions submit -c udea-ai4eng-20242 -f submission.csv -m \"gradient boosting agrupando por nombre de carrera, region del pais + Bogotá \""
      ]
    }
  ],
  "metadata": {
    "colab": {
      "provenance": []
    },
    "kernelspec": {
      "display_name": "p37",
      "language": "python",
      "name": "p37"
    },
    "language_info": {
      "codemirror_mode": {
        "name": "ipython",
        "version": 3
      },
      "file_extension": ".py",
      "mimetype": "text/x-python",
      "name": "python",
      "nbconvert_exporter": "python",
      "pygments_lexer": "ipython3",
      "version": "3.7.4"
    }
  },
  "nbformat": 4,
  "nbformat_minor": 0
}