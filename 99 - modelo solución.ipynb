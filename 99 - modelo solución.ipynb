{
  "cells": [
    {
      "cell_type": "markdown",
      "metadata": {
        "id": "D6yIHHU2p-EF"
      },
      "source": [
        "# 03. entrega final\n",
        "\n",
        "en el siguiente notebook se puede observar la exploración inicial de los datos\n",
        "[exploración](https://colab.research.google.com/drive/1Ta6oCFoSaoPLMxDyKNP12VUrhHDyCL5e?usp=sharing)\n"
      ]
    },
    {
      "cell_type": "markdown",
      "metadata": {
        "id": "CdkWz0856v-Z"
      },
      "source": [
        "## Descargar datos desde kagle\n",
        "\n",
        "- crear el archivo `kaggle.json` en kaggle (in kaggle $\\to$ perfil $\\to$ ajustes $\\to$ crear nuevo token)\n",
        "- subirlo en el almacenamiento de este notebook\n",
        "- ejecutar la siguiente celda"
      ]
    },
    {
      "cell_type": "code",
      "execution_count": 44,
      "metadata": {
        "colab": {
          "base_uri": "https://localhost:8080/"
        },
        "id": "HJ8jqq-FqPUB",
        "outputId": "e951f82d-4947-4243-c658-363268c1a581"
      },
      "outputs": [
        {
          "output_type": "stream",
          "name": "stdout",
          "text": [
            "udea-ai4eng-20242.zip: Skipping, found more recently modified local copy (use --force to force download)\n",
            "Drive already mounted at /content/drive; to attempt to forcibly remount, call drive.mount(\"/content/drive\", force_remount=True).\n",
            "replace submission_example.csv? [y]es, [n]o, [A]ll, [N]one, [r]ename: y\n",
            "replace test.csv? [y]es, [n]o, [A]ll, [N]one, [r]ename: y\n",
            "replace train.csv? [y]es, [n]o, [A]ll, [N]one, [r]ename: y\n"
          ]
        }
      ],
      "source": [
        "import os\n",
        "os.environ['KAGGLE_CONFIG_DIR'] = '.'\n",
        "!chmod 600 ./kaggle.json\n",
        "!kaggle competitions download -c udea-ai4eng-20242\n",
        "from google.colab import drive\n",
        "drive.mount('/content/drive')\n",
        "!unzip udea*.zip > /dev/null"
      ]
    },
    {
      "cell_type": "markdown",
      "source": [
        "## Librerias usadas\n"
      ],
      "metadata": {
        "id": "rFx5_kXwJnx8"
      }
    },
    {
      "cell_type": "code",
      "execution_count": 2,
      "metadata": {
        "id": "9bitCKLB74cC"
      },
      "outputs": [],
      "source": [
        "#Librerias para el manejo de grandes volumenes de datos\n",
        "import pandas as pd\n",
        "import numpy as np\n",
        "\n",
        "#Librerias usadas para el preprocesado de los datos\n",
        "import unicodedata\n",
        "from sklearn.preprocessing import LabelEncoder\n",
        "from sklearn.impute import KNNImputer\n",
        "\n",
        "#Librerias usadas para crear el modelo\n",
        "from sklearn.model_selection import train_test_split\n",
        "from sklearn.ensemble import GradientBoostingClassifier\n",
        "\n",
        "#librerias usadas para evaluar el modelo\n",
        "from sklearn.metrics import accuracy_score\n",
        "from sklearn.metrics import accuracy_score, confusion_matrix, ConfusionMatrixDisplay\n",
        "import matplotlib.pyplot as plt"
      ]
    },
    {
      "cell_type": "code",
      "execution_count": 3,
      "metadata": {
        "id": "T_ZgtSZ04chi"
      },
      "outputs": [],
      "source": [
        "# Cargar los datos de entrenamiento y prueba\n",
        "\n",
        "trainKaggle = pd.read_csv(\"train.csv\")\n",
        "testKaggle = pd.read_csv(\"test.csv\")"
      ]
    },
    {
      "cell_type": "markdown",
      "metadata": {
        "id": "Bne6vbL7VDcE"
      },
      "source": [
        "# Preprocesado"
      ]
    },
    {
      "cell_type": "markdown",
      "source": [
        "## Normalizacion de strings\n",
        "Se definen dos métodos auxiliares para normalizar cadenas de texto, esto es, quitarles tildes, dejar todo en minusculas, quitar espacios al inicio y final. Esto con el fin de evitar tratar como diferente información que es igual pero que tiene una codificación diferente."
      ],
      "metadata": {
        "id": "AOyHl-MhLSb3"
      }
    },
    {
      "cell_type": "code",
      "execution_count": 4,
      "metadata": {
        "id": "rB4nvg2_UPVO"
      },
      "outputs": [],
      "source": [
        "# Función de normalización de texto\n",
        "# Esta función normaliza las cadenas de texto eliminando acentos y convirtiendo a minúsculas\n",
        "def normalize_string(s):\n",
        "    return (\n",
        "        unicodedata.normalize('NFKD', s)\n",
        "        .encode('ascii', errors='ignore')\n",
        "        .decode('utf-8')\n",
        "        .lower()\n",
        "        .strip()\n",
        "        .replace('  ', ' ')\n",
        "    )\n",
        " # Función para extraer la primera palabra de un texto y eliminar caracteres específicos\n",
        "\n",
        "def extraer_primera_palabra(texto):\n",
        "    palabra = texto.replace('3','')\n",
        "    palabra = palabra.split()[0]\n",
        "    palabra= palabra.replace('-','')\n",
        "    return palabra"
      ]
    },
    {
      "cell_type": "markdown",
      "source": [
        "## Mapeos\n",
        "Se definen los diccionarios para mapear las variables categoricas a numericas. El diccionario mapeo_region se hace con el fin de evitar sobreajuste y aumentar la representatividad en cantidad de datos de departamentos que por si solos tienen pocos datos"
      ],
      "metadata": {
        "id": "H0vV38lvMA3c"
      }
    },
    {
      "cell_type": "code",
      "execution_count": 22,
      "metadata": {
        "id": "Soq1ghyXeJvB"
      },
      "outputs": [],
      "source": [
        "# Diccionarios de mapeo\n",
        "# Estos diccionarios permiten convertir categorías de texto en valores numéricos para el modelo\n",
        "mapeo_rendimiento = {\n",
        "    'bajo': 1,\n",
        "    'medio-bajo': 2,\n",
        "    'medio-alto': 3,\n",
        "    'alto': 4\n",
        "  }\n",
        "map_matricula ={\n",
        "    'Entre 5.5 millones y menos de 7 millones': 6,\n",
        "    'Entre 2.5 millones y menos de 4 millones': 4,\n",
        "    'Entre 4 millones y menos de 5.5 millones': 5,\n",
        "    'Más de 7 millones': 7,\n",
        "    'Entre 1 millón y menos de 2.5 millones': 3,\n",
        "    'Entre 500 mil y menos de 1 millón': 2,\n",
        "    'Menos de 500 mil': 1\n",
        "\n",
        "  }\n",
        "mapeo_horas = {\n",
        "    '0': 0,\n",
        "    'Menos de 10 horas': 1,\n",
        "    'Entre 11 y 20 horas': 2,\n",
        "    'Entre 21 y 30 horas': 3,\n",
        "    'Más de 30 horas': 4\n",
        "  }\n",
        "mapeo_estracto = {\n",
        "    'Estrato 3':3,\n",
        "    'Estrato 4':4,\n",
        "    'Estrato 5':5,\n",
        "    'Estrato 2':2,\n",
        "    'Estrato 1':1,\n",
        "    'Estrato 6':6,\n",
        "    'Sin Estrato':0\n",
        "  }\n",
        "\n",
        "mapeo_region = {\n",
        "     'BOGOTÁ': 'BOGOTÁ',\n",
        "    'ATLANTICO': 'Caribe',\n",
        "    'SANTANDER': 'Andina',\n",
        "    'ANTIOQUIA': 'ANTIOQUIA',\n",
        "    'HUILA': 'Andina',\n",
        "    'SUCRE': 'Caribe',\n",
        "    'CAQUETA': 'otra',\n",
        "    'CUNDINAMARCA': 'Andina',\n",
        "    'BOLIVAR': 'Caribe',\n",
        "    'TOLIMA': 'Andina',\n",
        "    'VALLE': 'Andina',\n",
        "    'QUINDIO': 'Andina',\n",
        "    'RISARALDA': 'Andina',\n",
        "    'CORDOBA': 'Caribe',\n",
        "    'META': 'otra',\n",
        "    'LA GUAJIRA': 'Caribe',\n",
        "    'BOYACA': 'Andina',\n",
        "    'NARIÑO': 'Andina',\n",
        "    'CAUCA': 'Andina',\n",
        "    'NORTE SANTANDER': 'Andina',\n",
        "    'CESAR': 'Caribe',\n",
        "    'PUTUMAYO': 'otra',\n",
        "    'CALDAS': 'Andina',\n",
        "    'MAGDALENA': 'Caribe',\n",
        "    'CHOCO': 'otra',\n",
        "    'CASANARE': 'otra',\n",
        "    'ARAUCA': 'otra',\n",
        "    'GUAVIARE': 'otra',\n",
        "    'AMAZONAS': 'otra',\n",
        "    'VAUPES': 'otra',\n",
        "    'SAN ANDRES': 'otra',\n",
        "    'VICHADA': 'otra'\n",
        "  }\n"
      ]
    },
    {
      "cell_type": "markdown",
      "source": [
        "## Preprocesado\n",
        "En el siguiente metodo se usan los diccionarios de la celda anterior, se hace one hot enconding a variables de la educación de padres. Se imputan datos con la moda o con KNNImputer y se retorna un nuevo dataframe"
      ],
      "metadata": {
        "id": "ET4s6k2aM1zZ"
      }
    },
    {
      "cell_type": "code",
      "source": [
        "# Función de preprocesamiento de datos\n",
        "def preprocess(dataframe):\n",
        "  # Copia el dataframe para preservar los datos originales\n",
        "  train = dataframe.copy()\n",
        "\n",
        "  target = 'RENDIMIENTO_GLOBAL'\n",
        "  # Mapear la variable objetivo si existe en los datos\n",
        "  if(target in train):\n",
        "    train[target] = train[target].map(mapeo_rendimiento)\n",
        "\n",
        "  # Normalización del nombre del programa académico\n",
        "  train['ESTU_PRGM_ACADEMICO'] = train['ESTU_PRGM_ACADEMICO'].apply(normalize_string)\n",
        "  train['ESTU_PRGM_ACADEMICO'] = train['ESTU_PRGM_ACADEMICO'].apply(extraer_primera_palabra)\n",
        "\n",
        "  # Agrupar los 15 programas más comunes, el resto se asigna como 'otra'\n",
        "  frecuencia = train['ESTU_PRGM_ACADEMICO'].value_counts()\n",
        "  top_10 = frecuencia.nlargest(15).index\n",
        "  train['ESTU_PRGM_ACADEMICO'] = train['ESTU_PRGM_ACADEMICO'].apply(lambda x: x if x in top_10 else 'otra')\n",
        "\n",
        "  # Aplicar mapeo a varias columnas\n",
        "  train['ESTU_PRGM_DEPARTAMENTO'] = train['ESTU_PRGM_DEPARTAMENTO'].map(mapeo_region)\n",
        "  train['FAMI_ESTRATOVIVIENDA'] = train['FAMI_ESTRATOVIVIENDA'].map(mapeo_estracto)\n",
        "  train['ESTU_HORASSEMANATRABAJA'] = train['ESTU_HORASSEMANATRABAJA'].map(mapeo_horas)\n",
        "  train[\"ESTU_VALORMATRICULAUNIVERSIDAD\"] = train[\"ESTU_VALORMATRICULAUNIVERSIDAD\"].map(map_matricula)\n",
        "  frecuencia = train['ESTU_PRGM_DEPARTAMENTO'].value_counts()\n",
        "\n",
        "  # Imputación de valores faltantes en educación de padres usando la moda\n",
        "  modaPadre = train['FAMI_EDUCACIONMADRE'].mode()[0]\n",
        "  modaMadre = train['FAMI_EDUCACIONPADRE'].mode()[0]\n",
        "  train['FAMI_EDUCACIONMADRE'].fillna(modaMadre, inplace=True)\n",
        "  train['FAMI_EDUCACIONPADRE'].fillna(modaPadre, inplace=True)\n",
        "\n",
        "  # One-hot encoding en educación de padres y conexión a internet\n",
        "  one_hot_encoded_p = pd.get_dummies(train['FAMI_EDUCACIONPADRE'], prefix='FAMI_EDUCACIONPADRE')\n",
        "  train = pd.concat([train, one_hot_encoded_p], axis=1)\n",
        "  train.drop('FAMI_EDUCACIONPADRE', axis=1, inplace=True)\n",
        "  one_hot_encoded_m = pd.get_dummies(train['FAMI_EDUCACIONMADRE'], prefix='FAMI_EDUCACIONMADRE')\n",
        "  train = pd.concat([train, one_hot_encoded_m], axis=1)\n",
        "  train.drop('FAMI_EDUCACIONMADRE', axis=1, inplace=True)\n",
        "\n",
        "  #imputar a fami tiene internet\n",
        "  modaInternet = train['FAMI_TIENEINTERNET'].mode()[0]\n",
        "  train['FAMI_TIENEINTERNET'].fillna(modaInternet, inplace=True)\n",
        "\n",
        "  #one hot a fami tiene internet\n",
        "  one_hot_encoded_p = pd.get_dummies(train['FAMI_TIENEINTERNET'], prefix='FAMI_TIENEINTERNET')\n",
        "  train = pd.concat([train, one_hot_encoded_p], axis=1)\n",
        "  train.drop('FAMI_TIENEINTERNET', axis=1, inplace=True)\n",
        "\n",
        "  # Imputación de valores numéricos usando KNN\n",
        "  chunk_size = 3000\n",
        "  numerical_cols = train.select_dtypes(include=[np.number]).columns.tolist()\n",
        "  num_rows = train.shape[0]\n",
        "  imputer = KNNImputer(n_neighbors=3)\n",
        "  for start in range(0, num_rows, chunk_size):\n",
        "    end = min(start + chunk_size, num_rows)\n",
        "    train.iloc[start:end, train.columns.get_indexer(numerical_cols)] = imputer.fit_transform(\n",
        "        train.iloc[start:end, train.columns.get_indexer(numerical_cols)].to_numpy())\n",
        "\n",
        "  #Codificación de variables categóricas restantes con LabelEncoder\n",
        "  label_encoder = LabelEncoder()\n",
        "  categorical_columns = train.select_dtypes(include=['object']).columns\n",
        "  for col in categorical_columns:\n",
        "    train[col] = label_encoder.fit_transform(train[col])\n",
        "  return train"
      ],
      "metadata": {
        "id": "BX-JYRmrL_07"
      },
      "execution_count": 49,
      "outputs": []
    },
    {
      "cell_type": "code",
      "execution_count": 50,
      "metadata": {
        "id": "Ney5ZLZXDEb-",
        "colab": {
          "base_uri": "https://localhost:8080/"
        },
        "outputId": "6e44aa87-7812-439f-ee03-055a503d9cc3"
      },
      "outputs": [
        {
          "output_type": "stream",
          "name": "stderr",
          "text": [
            "<ipython-input-49-f22ac2dc8e85>:30: FutureWarning: A value is trying to be set on a copy of a DataFrame or Series through chained assignment using an inplace method.\n",
            "The behavior will change in pandas 3.0. This inplace method will never work because the intermediate object on which we are setting values always behaves as a copy.\n",
            "\n",
            "For example, when doing 'df[col].method(value, inplace=True)', try using 'df.method({col: value}, inplace=True)' or df[col] = df[col].method(value) instead, to perform the operation inplace on the original object.\n",
            "\n",
            "\n",
            "  train['FAMI_EDUCACIONMADRE'].fillna(modaMadre, inplace=True)\n",
            "<ipython-input-49-f22ac2dc8e85>:31: FutureWarning: A value is trying to be set on a copy of a DataFrame or Series through chained assignment using an inplace method.\n",
            "The behavior will change in pandas 3.0. This inplace method will never work because the intermediate object on which we are setting values always behaves as a copy.\n",
            "\n",
            "For example, when doing 'df[col].method(value, inplace=True)', try using 'df.method({col: value}, inplace=True)' or df[col] = df[col].method(value) instead, to perform the operation inplace on the original object.\n",
            "\n",
            "\n",
            "  train['FAMI_EDUCACIONPADRE'].fillna(modaPadre, inplace=True)\n",
            "<ipython-input-49-f22ac2dc8e85>:43: FutureWarning: A value is trying to be set on a copy of a DataFrame or Series through chained assignment using an inplace method.\n",
            "The behavior will change in pandas 3.0. This inplace method will never work because the intermediate object on which we are setting values always behaves as a copy.\n",
            "\n",
            "For example, when doing 'df[col].method(value, inplace=True)', try using 'df.method({col: value}, inplace=True)' or df[col] = df[col].method(value) instead, to perform the operation inplace on the original object.\n",
            "\n",
            "\n",
            "  train['FAMI_TIENEINTERNET'].fillna(modaInternet, inplace=True)\n",
            "<ipython-input-49-f22ac2dc8e85>:30: FutureWarning: A value is trying to be set on a copy of a DataFrame or Series through chained assignment using an inplace method.\n",
            "The behavior will change in pandas 3.0. This inplace method will never work because the intermediate object on which we are setting values always behaves as a copy.\n",
            "\n",
            "For example, when doing 'df[col].method(value, inplace=True)', try using 'df.method({col: value}, inplace=True)' or df[col] = df[col].method(value) instead, to perform the operation inplace on the original object.\n",
            "\n",
            "\n",
            "  train['FAMI_EDUCACIONMADRE'].fillna(modaMadre, inplace=True)\n",
            "<ipython-input-49-f22ac2dc8e85>:31: FutureWarning: A value is trying to be set on a copy of a DataFrame or Series through chained assignment using an inplace method.\n",
            "The behavior will change in pandas 3.0. This inplace method will never work because the intermediate object on which we are setting values always behaves as a copy.\n",
            "\n",
            "For example, when doing 'df[col].method(value, inplace=True)', try using 'df.method({col: value}, inplace=True)' or df[col] = df[col].method(value) instead, to perform the operation inplace on the original object.\n",
            "\n",
            "\n",
            "  train['FAMI_EDUCACIONPADRE'].fillna(modaPadre, inplace=True)\n",
            "<ipython-input-49-f22ac2dc8e85>:43: FutureWarning: A value is trying to be set on a copy of a DataFrame or Series through chained assignment using an inplace method.\n",
            "The behavior will change in pandas 3.0. This inplace method will never work because the intermediate object on which we are setting values always behaves as a copy.\n",
            "\n",
            "For example, when doing 'df[col].method(value, inplace=True)', try using 'df.method({col: value}, inplace=True)' or df[col] = df[col].method(value) instead, to perform the operation inplace on the original object.\n",
            "\n",
            "\n",
            "  train['FAMI_TIENEINTERNET'].fillna(modaInternet, inplace=True)\n"
          ]
        }
      ],
      "source": [
        "# Preprocesamiento de los datos de entrenamiento y prueba\n",
        "trainPreprocesado = preprocess(trainKaggle)\n",
        "testPreprocesado = preprocess(testKaggle)"
      ]
    },
    {
      "cell_type": "markdown",
      "metadata": {
        "id": "wlGZe3MR0zUU"
      },
      "source": [
        "# Modelo"
      ]
    },
    {
      "cell_type": "markdown",
      "source": [
        "Entre los modelos que tuvimos en cuenta para este problema de clasificación (svm, randomforest, LogisticRegression), el GradientBoostingClassifier fue el que mejores resultados nos dio\n",
        "\n",
        "**GradientBoostingClassifier** es un modelo que combina varios árboles de decisión, donde cada árbol intenta corregir los errores del anterior. Esto permite captar relaciones complejas entre factores y hacer predicciones precisas.\n",
        "\n",
        "La unica desventaja fue el tiempo que le toma ejecutarse. El parametro learning_rate define que tanto se va a corregir el arbol de decisión anterior en cada iteración. max_depth controla la profundidad del arbol (si un arbol se vuelve muy profundo crea un modelo con sobreajuste)"
      ],
      "metadata": {
        "id": "fe-53X3wP77n"
      }
    },
    {
      "cell_type": "code",
      "execution_count": 35,
      "metadata": {
        "id": "uPwFMC1i-Ot1"
      },
      "outputs": [],
      "source": [
        "# Dividir los datos en entrenamiento y prueba\n",
        "X = trainPreprocesado.drop(columns=[\"RENDIMIENTO_GLOBAL\"])\n",
        "y = trainPreprocesado[\"RENDIMIENTO_GLOBAL\"]\n",
        "X_train, X_test, y_train, y_test = train_test_split(X, y, test_size=0.1, random_state=42)\n",
        "#usamos un tamaño de test pequeño, ya que en este punto  usamos los envios a kaggle como test"
      ]
    },
    {
      "cell_type": "code",
      "source": [
        "# Configuración y entrenamiento del modelo Gradient Boosting\n",
        "# Entrenamos un modelo Gradient Boosting con 200 árboles, learning rate de 0.1 y max depth de 4\n",
        "model = GradientBoostingClassifier(n_estimators=350, learning_rate=0.09, max_depth=5, random_state=0)\n",
        "model.fit(X_train, y_train)"
      ],
      "metadata": {
        "id": "VjYJnbWKrx0Q",
        "colab": {
          "base_uri": "https://localhost:8080/",
          "height": 98
        },
        "outputId": "1a9436f2-e7d7-4585-8a75-eda403761720"
      },
      "execution_count": 40,
      "outputs": [
        {
          "output_type": "execute_result",
          "data": {
            "text/plain": [
              "GradientBoostingClassifier(learning_rate=0.09, max_depth=5, n_estimators=350,\n",
              "                           random_state=0)"
            ],
            "text/html": [
              "<style>#sk-container-id-4 {\n",
              "  /* Definition of color scheme common for light and dark mode */\n",
              "  --sklearn-color-text: black;\n",
              "  --sklearn-color-line: gray;\n",
              "  /* Definition of color scheme for unfitted estimators */\n",
              "  --sklearn-color-unfitted-level-0: #fff5e6;\n",
              "  --sklearn-color-unfitted-level-1: #f6e4d2;\n",
              "  --sklearn-color-unfitted-level-2: #ffe0b3;\n",
              "  --sklearn-color-unfitted-level-3: chocolate;\n",
              "  /* Definition of color scheme for fitted estimators */\n",
              "  --sklearn-color-fitted-level-0: #f0f8ff;\n",
              "  --sklearn-color-fitted-level-1: #d4ebff;\n",
              "  --sklearn-color-fitted-level-2: #b3dbfd;\n",
              "  --sklearn-color-fitted-level-3: cornflowerblue;\n",
              "\n",
              "  /* Specific color for light theme */\n",
              "  --sklearn-color-text-on-default-background: var(--sg-text-color, var(--theme-code-foreground, var(--jp-content-font-color1, black)));\n",
              "  --sklearn-color-background: var(--sg-background-color, var(--theme-background, var(--jp-layout-color0, white)));\n",
              "  --sklearn-color-border-box: var(--sg-text-color, var(--theme-code-foreground, var(--jp-content-font-color1, black)));\n",
              "  --sklearn-color-icon: #696969;\n",
              "\n",
              "  @media (prefers-color-scheme: dark) {\n",
              "    /* Redefinition of color scheme for dark theme */\n",
              "    --sklearn-color-text-on-default-background: var(--sg-text-color, var(--theme-code-foreground, var(--jp-content-font-color1, white)));\n",
              "    --sklearn-color-background: var(--sg-background-color, var(--theme-background, var(--jp-layout-color0, #111)));\n",
              "    --sklearn-color-border-box: var(--sg-text-color, var(--theme-code-foreground, var(--jp-content-font-color1, white)));\n",
              "    --sklearn-color-icon: #878787;\n",
              "  }\n",
              "}\n",
              "\n",
              "#sk-container-id-4 {\n",
              "  color: var(--sklearn-color-text);\n",
              "}\n",
              "\n",
              "#sk-container-id-4 pre {\n",
              "  padding: 0;\n",
              "}\n",
              "\n",
              "#sk-container-id-4 input.sk-hidden--visually {\n",
              "  border: 0;\n",
              "  clip: rect(1px 1px 1px 1px);\n",
              "  clip: rect(1px, 1px, 1px, 1px);\n",
              "  height: 1px;\n",
              "  margin: -1px;\n",
              "  overflow: hidden;\n",
              "  padding: 0;\n",
              "  position: absolute;\n",
              "  width: 1px;\n",
              "}\n",
              "\n",
              "#sk-container-id-4 div.sk-dashed-wrapped {\n",
              "  border: 1px dashed var(--sklearn-color-line);\n",
              "  margin: 0 0.4em 0.5em 0.4em;\n",
              "  box-sizing: border-box;\n",
              "  padding-bottom: 0.4em;\n",
              "  background-color: var(--sklearn-color-background);\n",
              "}\n",
              "\n",
              "#sk-container-id-4 div.sk-container {\n",
              "  /* jupyter's `normalize.less` sets `[hidden] { display: none; }`\n",
              "     but bootstrap.min.css set `[hidden] { display: none !important; }`\n",
              "     so we also need the `!important` here to be able to override the\n",
              "     default hidden behavior on the sphinx rendered scikit-learn.org.\n",
              "     See: https://github.com/scikit-learn/scikit-learn/issues/21755 */\n",
              "  display: inline-block !important;\n",
              "  position: relative;\n",
              "}\n",
              "\n",
              "#sk-container-id-4 div.sk-text-repr-fallback {\n",
              "  display: none;\n",
              "}\n",
              "\n",
              "div.sk-parallel-item,\n",
              "div.sk-serial,\n",
              "div.sk-item {\n",
              "  /* draw centered vertical line to link estimators */\n",
              "  background-image: linear-gradient(var(--sklearn-color-text-on-default-background), var(--sklearn-color-text-on-default-background));\n",
              "  background-size: 2px 100%;\n",
              "  background-repeat: no-repeat;\n",
              "  background-position: center center;\n",
              "}\n",
              "\n",
              "/* Parallel-specific style estimator block */\n",
              "\n",
              "#sk-container-id-4 div.sk-parallel-item::after {\n",
              "  content: \"\";\n",
              "  width: 100%;\n",
              "  border-bottom: 2px solid var(--sklearn-color-text-on-default-background);\n",
              "  flex-grow: 1;\n",
              "}\n",
              "\n",
              "#sk-container-id-4 div.sk-parallel {\n",
              "  display: flex;\n",
              "  align-items: stretch;\n",
              "  justify-content: center;\n",
              "  background-color: var(--sklearn-color-background);\n",
              "  position: relative;\n",
              "}\n",
              "\n",
              "#sk-container-id-4 div.sk-parallel-item {\n",
              "  display: flex;\n",
              "  flex-direction: column;\n",
              "}\n",
              "\n",
              "#sk-container-id-4 div.sk-parallel-item:first-child::after {\n",
              "  align-self: flex-end;\n",
              "  width: 50%;\n",
              "}\n",
              "\n",
              "#sk-container-id-4 div.sk-parallel-item:last-child::after {\n",
              "  align-self: flex-start;\n",
              "  width: 50%;\n",
              "}\n",
              "\n",
              "#sk-container-id-4 div.sk-parallel-item:only-child::after {\n",
              "  width: 0;\n",
              "}\n",
              "\n",
              "/* Serial-specific style estimator block */\n",
              "\n",
              "#sk-container-id-4 div.sk-serial {\n",
              "  display: flex;\n",
              "  flex-direction: column;\n",
              "  align-items: center;\n",
              "  background-color: var(--sklearn-color-background);\n",
              "  padding-right: 1em;\n",
              "  padding-left: 1em;\n",
              "}\n",
              "\n",
              "\n",
              "/* Toggleable style: style used for estimator/Pipeline/ColumnTransformer box that is\n",
              "clickable and can be expanded/collapsed.\n",
              "- Pipeline and ColumnTransformer use this feature and define the default style\n",
              "- Estimators will overwrite some part of the style using the `sk-estimator` class\n",
              "*/\n",
              "\n",
              "/* Pipeline and ColumnTransformer style (default) */\n",
              "\n",
              "#sk-container-id-4 div.sk-toggleable {\n",
              "  /* Default theme specific background. It is overwritten whether we have a\n",
              "  specific estimator or a Pipeline/ColumnTransformer */\n",
              "  background-color: var(--sklearn-color-background);\n",
              "}\n",
              "\n",
              "/* Toggleable label */\n",
              "#sk-container-id-4 label.sk-toggleable__label {\n",
              "  cursor: pointer;\n",
              "  display: block;\n",
              "  width: 100%;\n",
              "  margin-bottom: 0;\n",
              "  padding: 0.5em;\n",
              "  box-sizing: border-box;\n",
              "  text-align: center;\n",
              "}\n",
              "\n",
              "#sk-container-id-4 label.sk-toggleable__label-arrow:before {\n",
              "  /* Arrow on the left of the label */\n",
              "  content: \"▸\";\n",
              "  float: left;\n",
              "  margin-right: 0.25em;\n",
              "  color: var(--sklearn-color-icon);\n",
              "}\n",
              "\n",
              "#sk-container-id-4 label.sk-toggleable__label-arrow:hover:before {\n",
              "  color: var(--sklearn-color-text);\n",
              "}\n",
              "\n",
              "/* Toggleable content - dropdown */\n",
              "\n",
              "#sk-container-id-4 div.sk-toggleable__content {\n",
              "  max-height: 0;\n",
              "  max-width: 0;\n",
              "  overflow: hidden;\n",
              "  text-align: left;\n",
              "  /* unfitted */\n",
              "  background-color: var(--sklearn-color-unfitted-level-0);\n",
              "}\n",
              "\n",
              "#sk-container-id-4 div.sk-toggleable__content.fitted {\n",
              "  /* fitted */\n",
              "  background-color: var(--sklearn-color-fitted-level-0);\n",
              "}\n",
              "\n",
              "#sk-container-id-4 div.sk-toggleable__content pre {\n",
              "  margin: 0.2em;\n",
              "  border-radius: 0.25em;\n",
              "  color: var(--sklearn-color-text);\n",
              "  /* unfitted */\n",
              "  background-color: var(--sklearn-color-unfitted-level-0);\n",
              "}\n",
              "\n",
              "#sk-container-id-4 div.sk-toggleable__content.fitted pre {\n",
              "  /* unfitted */\n",
              "  background-color: var(--sklearn-color-fitted-level-0);\n",
              "}\n",
              "\n",
              "#sk-container-id-4 input.sk-toggleable__control:checked~div.sk-toggleable__content {\n",
              "  /* Expand drop-down */\n",
              "  max-height: 200px;\n",
              "  max-width: 100%;\n",
              "  overflow: auto;\n",
              "}\n",
              "\n",
              "#sk-container-id-4 input.sk-toggleable__control:checked~label.sk-toggleable__label-arrow:before {\n",
              "  content: \"▾\";\n",
              "}\n",
              "\n",
              "/* Pipeline/ColumnTransformer-specific style */\n",
              "\n",
              "#sk-container-id-4 div.sk-label input.sk-toggleable__control:checked~label.sk-toggleable__label {\n",
              "  color: var(--sklearn-color-text);\n",
              "  background-color: var(--sklearn-color-unfitted-level-2);\n",
              "}\n",
              "\n",
              "#sk-container-id-4 div.sk-label.fitted input.sk-toggleable__control:checked~label.sk-toggleable__label {\n",
              "  background-color: var(--sklearn-color-fitted-level-2);\n",
              "}\n",
              "\n",
              "/* Estimator-specific style */\n",
              "\n",
              "/* Colorize estimator box */\n",
              "#sk-container-id-4 div.sk-estimator input.sk-toggleable__control:checked~label.sk-toggleable__label {\n",
              "  /* unfitted */\n",
              "  background-color: var(--sklearn-color-unfitted-level-2);\n",
              "}\n",
              "\n",
              "#sk-container-id-4 div.sk-estimator.fitted input.sk-toggleable__control:checked~label.sk-toggleable__label {\n",
              "  /* fitted */\n",
              "  background-color: var(--sklearn-color-fitted-level-2);\n",
              "}\n",
              "\n",
              "#sk-container-id-4 div.sk-label label.sk-toggleable__label,\n",
              "#sk-container-id-4 div.sk-label label {\n",
              "  /* The background is the default theme color */\n",
              "  color: var(--sklearn-color-text-on-default-background);\n",
              "}\n",
              "\n",
              "/* On hover, darken the color of the background */\n",
              "#sk-container-id-4 div.sk-label:hover label.sk-toggleable__label {\n",
              "  color: var(--sklearn-color-text);\n",
              "  background-color: var(--sklearn-color-unfitted-level-2);\n",
              "}\n",
              "\n",
              "/* Label box, darken color on hover, fitted */\n",
              "#sk-container-id-4 div.sk-label.fitted:hover label.sk-toggleable__label.fitted {\n",
              "  color: var(--sklearn-color-text);\n",
              "  background-color: var(--sklearn-color-fitted-level-2);\n",
              "}\n",
              "\n",
              "/* Estimator label */\n",
              "\n",
              "#sk-container-id-4 div.sk-label label {\n",
              "  font-family: monospace;\n",
              "  font-weight: bold;\n",
              "  display: inline-block;\n",
              "  line-height: 1.2em;\n",
              "}\n",
              "\n",
              "#sk-container-id-4 div.sk-label-container {\n",
              "  text-align: center;\n",
              "}\n",
              "\n",
              "/* Estimator-specific */\n",
              "#sk-container-id-4 div.sk-estimator {\n",
              "  font-family: monospace;\n",
              "  border: 1px dotted var(--sklearn-color-border-box);\n",
              "  border-radius: 0.25em;\n",
              "  box-sizing: border-box;\n",
              "  margin-bottom: 0.5em;\n",
              "  /* unfitted */\n",
              "  background-color: var(--sklearn-color-unfitted-level-0);\n",
              "}\n",
              "\n",
              "#sk-container-id-4 div.sk-estimator.fitted {\n",
              "  /* fitted */\n",
              "  background-color: var(--sklearn-color-fitted-level-0);\n",
              "}\n",
              "\n",
              "/* on hover */\n",
              "#sk-container-id-4 div.sk-estimator:hover {\n",
              "  /* unfitted */\n",
              "  background-color: var(--sklearn-color-unfitted-level-2);\n",
              "}\n",
              "\n",
              "#sk-container-id-4 div.sk-estimator.fitted:hover {\n",
              "  /* fitted */\n",
              "  background-color: var(--sklearn-color-fitted-level-2);\n",
              "}\n",
              "\n",
              "/* Specification for estimator info (e.g. \"i\" and \"?\") */\n",
              "\n",
              "/* Common style for \"i\" and \"?\" */\n",
              "\n",
              ".sk-estimator-doc-link,\n",
              "a:link.sk-estimator-doc-link,\n",
              "a:visited.sk-estimator-doc-link {\n",
              "  float: right;\n",
              "  font-size: smaller;\n",
              "  line-height: 1em;\n",
              "  font-family: monospace;\n",
              "  background-color: var(--sklearn-color-background);\n",
              "  border-radius: 1em;\n",
              "  height: 1em;\n",
              "  width: 1em;\n",
              "  text-decoration: none !important;\n",
              "  margin-left: 1ex;\n",
              "  /* unfitted */\n",
              "  border: var(--sklearn-color-unfitted-level-1) 1pt solid;\n",
              "  color: var(--sklearn-color-unfitted-level-1);\n",
              "}\n",
              "\n",
              ".sk-estimator-doc-link.fitted,\n",
              "a:link.sk-estimator-doc-link.fitted,\n",
              "a:visited.sk-estimator-doc-link.fitted {\n",
              "  /* fitted */\n",
              "  border: var(--sklearn-color-fitted-level-1) 1pt solid;\n",
              "  color: var(--sklearn-color-fitted-level-1);\n",
              "}\n",
              "\n",
              "/* On hover */\n",
              "div.sk-estimator:hover .sk-estimator-doc-link:hover,\n",
              ".sk-estimator-doc-link:hover,\n",
              "div.sk-label-container:hover .sk-estimator-doc-link:hover,\n",
              ".sk-estimator-doc-link:hover {\n",
              "  /* unfitted */\n",
              "  background-color: var(--sklearn-color-unfitted-level-3);\n",
              "  color: var(--sklearn-color-background);\n",
              "  text-decoration: none;\n",
              "}\n",
              "\n",
              "div.sk-estimator.fitted:hover .sk-estimator-doc-link.fitted:hover,\n",
              ".sk-estimator-doc-link.fitted:hover,\n",
              "div.sk-label-container:hover .sk-estimator-doc-link.fitted:hover,\n",
              ".sk-estimator-doc-link.fitted:hover {\n",
              "  /* fitted */\n",
              "  background-color: var(--sklearn-color-fitted-level-3);\n",
              "  color: var(--sklearn-color-background);\n",
              "  text-decoration: none;\n",
              "}\n",
              "\n",
              "/* Span, style for the box shown on hovering the info icon */\n",
              ".sk-estimator-doc-link span {\n",
              "  display: none;\n",
              "  z-index: 9999;\n",
              "  position: relative;\n",
              "  font-weight: normal;\n",
              "  right: .2ex;\n",
              "  padding: .5ex;\n",
              "  margin: .5ex;\n",
              "  width: min-content;\n",
              "  min-width: 20ex;\n",
              "  max-width: 50ex;\n",
              "  color: var(--sklearn-color-text);\n",
              "  box-shadow: 2pt 2pt 4pt #999;\n",
              "  /* unfitted */\n",
              "  background: var(--sklearn-color-unfitted-level-0);\n",
              "  border: .5pt solid var(--sklearn-color-unfitted-level-3);\n",
              "}\n",
              "\n",
              ".sk-estimator-doc-link.fitted span {\n",
              "  /* fitted */\n",
              "  background: var(--sklearn-color-fitted-level-0);\n",
              "  border: var(--sklearn-color-fitted-level-3);\n",
              "}\n",
              "\n",
              ".sk-estimator-doc-link:hover span {\n",
              "  display: block;\n",
              "}\n",
              "\n",
              "/* \"?\"-specific style due to the `<a>` HTML tag */\n",
              "\n",
              "#sk-container-id-4 a.estimator_doc_link {\n",
              "  float: right;\n",
              "  font-size: 1rem;\n",
              "  line-height: 1em;\n",
              "  font-family: monospace;\n",
              "  background-color: var(--sklearn-color-background);\n",
              "  border-radius: 1rem;\n",
              "  height: 1rem;\n",
              "  width: 1rem;\n",
              "  text-decoration: none;\n",
              "  /* unfitted */\n",
              "  color: var(--sklearn-color-unfitted-level-1);\n",
              "  border: var(--sklearn-color-unfitted-level-1) 1pt solid;\n",
              "}\n",
              "\n",
              "#sk-container-id-4 a.estimator_doc_link.fitted {\n",
              "  /* fitted */\n",
              "  border: var(--sklearn-color-fitted-level-1) 1pt solid;\n",
              "  color: var(--sklearn-color-fitted-level-1);\n",
              "}\n",
              "\n",
              "/* On hover */\n",
              "#sk-container-id-4 a.estimator_doc_link:hover {\n",
              "  /* unfitted */\n",
              "  background-color: var(--sklearn-color-unfitted-level-3);\n",
              "  color: var(--sklearn-color-background);\n",
              "  text-decoration: none;\n",
              "}\n",
              "\n",
              "#sk-container-id-4 a.estimator_doc_link.fitted:hover {\n",
              "  /* fitted */\n",
              "  background-color: var(--sklearn-color-fitted-level-3);\n",
              "}\n",
              "</style><div id=\"sk-container-id-4\" class=\"sk-top-container\"><div class=\"sk-text-repr-fallback\"><pre>GradientBoostingClassifier(learning_rate=0.09, max_depth=5, n_estimators=350,\n",
              "                           random_state=0)</pre><b>In a Jupyter environment, please rerun this cell to show the HTML representation or trust the notebook. <br />On GitHub, the HTML representation is unable to render, please try loading this page with nbviewer.org.</b></div><div class=\"sk-container\" hidden><div class=\"sk-item\"><div class=\"sk-estimator fitted sk-toggleable\"><input class=\"sk-toggleable__control sk-hidden--visually\" id=\"sk-estimator-id-4\" type=\"checkbox\" checked><label for=\"sk-estimator-id-4\" class=\"sk-toggleable__label fitted sk-toggleable__label-arrow fitted\">&nbsp;&nbsp;GradientBoostingClassifier<a class=\"sk-estimator-doc-link fitted\" rel=\"noreferrer\" target=\"_blank\" href=\"https://scikit-learn.org/1.5/modules/generated/sklearn.ensemble.GradientBoostingClassifier.html\">?<span>Documentation for GradientBoostingClassifier</span></a><span class=\"sk-estimator-doc-link fitted\">i<span>Fitted</span></span></label><div class=\"sk-toggleable__content fitted\"><pre>GradientBoostingClassifier(learning_rate=0.09, max_depth=5, n_estimators=350,\n",
              "                           random_state=0)</pre></div> </div></div></div></div>"
            ]
          },
          "metadata": {},
          "execution_count": 40
        }
      ]
    },
    {
      "cell_type": "code",
      "execution_count": null,
      "metadata": {
        "id": "zEkfnUjyOdX9",
        "colab": {
          "base_uri": "https://localhost:8080/"
        },
        "outputId": "91b33d44-d4cf-4f7b-b48b-5d20b406dd05"
      },
      "outputs": [
        {
          "output_type": "stream",
          "name": "stdout",
          "text": [
            "Porcentaje de acierto del modelo: 41.60%\n"
          ]
        }
      ],
      "source": [
        "# Evaluación del modelo\n",
        "# Calculamos la precisión del modelo\n",
        "accuracy = model.score(X_test, y_test)\n",
        "porcentaje_acierto = accuracy * 100\n",
        "print(f\"Porcentaje de acierto del modelo: {porcentaje_acierto:.2f}%\")"
      ]
    },
    {
      "cell_type": "markdown",
      "source": [
        "## Resultados del modelo\n",
        "Podemos observar que en se tiene un buen desempeño en predecir cuando un estudiante tiene desempeño alto  o bajo. Esto se debe a que desde las variables predictoras ciertos aspectos tienen a estar sesgados en ambos grupos poblacionales (por ejemplo un estudiante con padres de posgrado tiende a tener un rendimiento alto, mientras que uno con padres sin educación tiende a tener un rendmiento bajo) cosa que no sucede con el rendimiento medio-bajo y medio-alto.\n",
        "Tambien se observa que en las variables media-baja el modelo tiende a predecirlo como si fuera bajo,  y pasa lo mismo con media-alta y alta. Nuevamente si vamos al análisis de las variables con que intentamos predecir, se puede observar que la similitud distribución entre los datos de estos pares de resultados es alta."
      ],
      "metadata": {
        "id": "xLi3SpzrSlI6"
      }
    },
    {
      "cell_type": "code",
      "source": [
        "# Visualización de la matriz de confusión\n",
        "\n",
        "y_pred = model.predict(X_test)\n",
        "cm = confusion_matrix(y_test, y_pred)\n",
        "disp = ConfusionMatrixDisplay(confusion_matrix=cm, display_labels=model.classes_)\n",
        "disp.plot(cmap=plt.cm.Oranges)\n",
        "plt.show()"
      ],
      "metadata": {
        "colab": {
          "base_uri": "https://localhost:8080/",
          "height": 449
        },
        "id": "hdv6ndkYdxVO",
        "outputId": "5d4f980e-63cb-46a6-f0bb-82370f6823da"
      },
      "execution_count": 45,
      "outputs": [
        {
          "output_type": "display_data",
          "data": {
            "text/plain": [
              "<Figure size 640x480 with 2 Axes>"
            ],
            "image/png": "[encoded data removed]"
          },
          "metadata": {}
        }
      ]
    },
    {
      "cell_type": "markdown",
      "metadata": {
        "id": "b6Zzs-oKQeB_"
      },
      "source": [
        "# Envio a Kaggle"
      ]
    },
    {
      "cell_type": "code",
      "execution_count": 52,
      "metadata": {
        "id": "6Wqn2AA5qkEV",
        "colab": {
          "base_uri": "https://localhost:8080/"
        },
        "outputId": "cb1e1538-6bbf-47e0-deec-90728e48f986"
      },
      "outputs": [
        {
          "output_type": "stream",
          "name": "stderr",
          "text": [
            "<ipython-input-52-7fbd56e117e0>:20: SettingWithCopyWarning: \n",
            "A value is trying to be set on a copy of a slice from a DataFrame.\n",
            "Try using .loc[row_indexer,col_indexer] = value instead\n",
            "\n",
            "See the caveats in the documentation: https://pandas.pydata.org/pandas-docs/stable/user_guide/indexing.html#returning-a-view-versus-a-copy\n",
            "  envio['RENDIMIENTO_GLOBAL'] = envio['RENDIMIENTO_GLOBAL'].map(mapeo_rendimiento)\n"
          ]
        },
        {
          "output_type": "stream",
          "name": "stdout",
          "text": [
            "y\n",
            "100% 4.00M/4.00M [00:00<00:00, 14.1MB/s]\n",
            "Successfully submitted to UDEA/ai4eng 20242 - Pruebas Saber Pro Colombia"
          ]
        }
      ],
      "source": [
        "\n",
        "# Preparación para el envío a Kaggle\n",
        "# Generamos predicciones para los datos de prueba y preparamos el archivo de envío\n",
        "testPreprocesadoToSend = testPreprocesado.copy()\n",
        "testPreprocesadoToSend.drop('Unnamed: 0', axis=1, inplace=True)\n",
        "kagglePredictions = model.predict(testPreprocesadoToSend)\n",
        "\n",
        "testPreprocesadoToSend['RENDIMIENTO_GLOBAL'] = kagglePredictions\n",
        "envio = testPreprocesadoToSend[['ID','RENDIMIENTO_GLOBAL']]\n",
        "\n",
        "# Mapeo inverso de los valores de rendimiento para restaurar las etiquetas originales\n",
        "\n",
        "mapeo_rendimiento = {\n",
        "    1: 'bajo',\n",
        "    2: 'medio-bajo',\n",
        "    3: 'medio-alto',\n",
        "    4: 'alto'\n",
        "}\n",
        "envio['RENDIMIENTO_GLOBAL'] = envio['RENDIMIENTO_GLOBAL'].map(mapeo_rendimiento)\n",
        "# Guardamos el archivo para enviar a Kaggle\n",
        "\n",
        "envio.to_csv('submission.csv', index=False)\n",
        "!kaggle competitions submit -c udea-ai4eng-20242 -f submission.csv -m \"gradient boosting agrupando por nombre de carrera, region del pais + Bogotá \""
      ]
    },
    {
      "cell_type": "markdown",
      "source": [
        "# Análisis y reflexión final\n",
        "\n",
        "Como equipo nos encontramos satisfechos con el resultado obtenido. El porcentaje de precisión si tiraramos un dado de 4 caras sería del 25%, con este modelo estamos ganandole al azar en un 16%.\n",
        "Con este trabajo también evidenciamos la correlación, y en este caso nos atrevemos a decir también  causalidad, entre la situación socioeconomica y el rendimiento academico de un estudiante en el pais.\n",
        "\n",
        "Entre las cosas que se nos quedaron en el tintero para mejorar la precisión del modelo esta el crear registros simulados para las variables subrepresentadas y crear un modelo especializado en distinguir entre:\n",
        "* rendimiento bajo con medio-bajo\n",
        "* rendimiento alto con medio-alto\n",
        "\n",
        "de forma que se ejecuta el modelo principal y luego con su respuesta se ejecuta el modelo especializado"
      ],
      "metadata": {
        "id": "YtzlPdj7Trwq"
      }
    }
  ],
  "metadata": {
    "colab": {
      "provenance": []
    },
    "kernelspec": {
      "display_name": "p37",
      "language": "python",
      "name": "p37"
    },
    "language_info": {
      "codemirror_mode": {
        "name": "ipython",
        "version": 3
      },
      "file_extension": ".py",
      "mimetype": "text/x-python",
      "name": "python",
      "nbconvert_exporter": "python",
      "pygments_lexer": "ipython3",
      "version": "3.7.4"
    }
  },
  "nbformat": 4,
  "nbformat_minor": 0
}